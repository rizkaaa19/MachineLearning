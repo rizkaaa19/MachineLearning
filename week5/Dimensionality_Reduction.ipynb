{
  "cells": [
    {
      "cell_type": "markdown",
      "metadata": {
        "id": "view-in-github",
        "colab_type": "text"
      },
      "source": [
        "<a href=\"https://colab.research.google.com/github/rizkaaa19/MachineLearning/blob/main/week5/Dimensionality_Reduction.ipynb\" target=\"_parent\"><img src=\"https://colab.research.google.com/assets/colab-badge.svg\" alt=\"Open In Colab\"/></a>"
      ]
    },
    {
      "cell_type": "code",
      "source": [
        "from sklearn import datasets\n",
        "from sklearn.model_selection import train_test_split\n",
        "from sklearn import tree\n",
        "from sklearn.decomposition import PCA\n",
        "from sklearn.tree import DecisionTreeClassifier\n",
        "import matplotlib.pyplot as plt"
      ],
      "metadata": {
        "id": "9AfDbI6rrOoa"
      },
      "execution_count": null,
      "outputs": []
    },
    {
      "cell_type": "code",
      "source": [
        "iris = datasets.load_iris()"
      ],
      "metadata": {
        "id": "V3D1k__Ks41j"
      },
      "execution_count": null,
      "outputs": []
    },
    {
      "cell_type": "code",
      "source": [
        "atribut = iris.data\n",
        "label = iris.target"
      ],
      "metadata": {
        "id": "TmrzErrKrnmV"
      },
      "execution_count": null,
      "outputs": []
    },
    {
      "cell_type": "code",
      "source": [
        "jumlah_baris = len(atribut)\n",
        "print(\"jumlah baris dalam datasets iris :\", jumlah_baris)"
      ],
      "metadata": {
        "id": "3etwVqZfrnjb",
        "outputId": "c615fbdc-246f-4caf-88f0-0392001b4ceb",
        "colab": {
          "base_uri": "https://localhost:8080/"
        }
      },
      "execution_count": null,
      "outputs": [
        {
          "output_type": "stream",
          "name": "stdout",
          "text": [
            "jumlah baris dalam datasets iris : 150\n"
          ]
        }
      ]
    },
    {
      "cell_type": "code",
      "source": [
        "X_train, X_test, y_train, y_test = train_test_split(atribut, label, test_size=0.2)"
      ],
      "metadata": {
        "id": "phVvs0k9rnTz"
      },
      "execution_count": null,
      "outputs": []
    },
    {
      "cell_type": "code",
      "source": [
        "decision_tree = tree.DecisionTreeClassifier()\n",
        "model_no_dimensionality_reduction = decision_tree.fit(X_train, y_train)\n",
        "model_no_dimensionality_reduction.score(X_test, y_test)"
      ],
      "metadata": {
        "id": "p_GAhBigrnRS",
        "outputId": "59ddfce4-4fdb-40ea-9f75-cf0c7db19f5a",
        "colab": {
          "base_uri": "https://localhost:8080/"
        }
      },
      "execution_count": null,
      "outputs": [
        {
          "output_type": "execute_result",
          "data": {
            "text/plain": [
              "0.9666666666666667"
            ]
          },
          "metadata": {},
          "execution_count": 13
        }
      ]
    },
    {
      "cell_type": "code",
      "source": [
        "pca4 = PCA(n_components=4)\n",
        "X_train_pca4 = pca4.fit_transform(X_train)\n",
        "X_test_pca4 = pca4.transform(X_test)"
      ],
      "metadata": {
        "id": "vtalA7zFzfqP"
      },
      "execution_count": null,
      "outputs": []
    },
    {
      "cell_type": "code",
      "source": [
        "decision_tree_4_components = DecisionTreeClassifier()\n",
        "model_with_pca_4_components = decision_tree_4_components.fit(X_train_pca4, y_train)"
      ],
      "metadata": {
        "id": "01QLRQh3zfnR"
      },
      "execution_count": null,
      "outputs": []
    },
    {
      "cell_type": "code",
      "source": [
        "accuracy_4_components = model_with_pca_4_components.score(X_test_pca4, y_test)\n",
        "print(\"akurasi pca 4 komponen :\", accuracy_4_components)"
      ],
      "metadata": {
        "id": "iMHlfdkzzfku",
        "outputId": "b2c163e2-35d6-405d-beda-d9c41781084c",
        "colab": {
          "base_uri": "https://localhost:8080/"
        }
      },
      "execution_count": null,
      "outputs": [
        {
          "output_type": "stream",
          "name": "stdout",
          "text": [
            "akurasi pca 4 komponen : 0.9333333333333333\n"
          ]
        }
      ]
    },
    {
      "cell_type": "code",
      "source": [
        "pca = PCA(n_components=4)\n",
        "pca_attributes = pca.fit_transform(X_train)\n",
        "pca.explained_variance_ratio_"
      ],
      "metadata": {
        "id": "af65GRE6rnO5",
        "outputId": "9adb84b0-9567-450b-c3aa-f99333f8d17d",
        "colab": {
          "base_uri": "https://localhost:8080/"
        }
      },
      "execution_count": null,
      "outputs": [
        {
          "output_type": "execute_result",
          "data": {
            "text/plain": [
              "array([0.92312863, 0.0528586 , 0.018744  , 0.00526877])"
            ]
          },
          "metadata": {},
          "execution_count": 37
        }
      ]
    },
    {
      "cell_type": "code",
      "source": [
        "pca2 = PCA(n_components=2)\n",
        "X_train_pca2 = pca2.fit_transform(X_train)\n",
        "X_test_pca2 = pca2.fit_transform(X_test)"
      ],
      "metadata": {
        "id": "AqMGEZwJrnMR"
      },
      "execution_count": null,
      "outputs": []
    },
    {
      "cell_type": "code",
      "source": [
        "decision_tree_2_components = DecisionTreeClassifier()\n",
        "model_with_pca_2_components = decision_tree_2_components.fit(X_train_pca2, y_train)"
      ],
      "metadata": {
        "id": "3SAn0g0MxEkZ"
      },
      "execution_count": null,
      "outputs": []
    },
    {
      "cell_type": "code",
      "source": [
        "accuracy_2_components = model_with_pca_2_components.score(X_test_pca2, y_test)\n",
        "print(\"akurasi pca 2 komponen :\", accuracy_2_components)"
      ],
      "metadata": {
        "id": "RN3Uh47OxEg9",
        "outputId": "2b7c8375-14ca-4a25-840f-11843a70b06c",
        "colab": {
          "base_uri": "https://localhost:8080/"
        }
      },
      "execution_count": null,
      "outputs": [
        {
          "output_type": "stream",
          "name": "stdout",
          "text": [
            "akurasi pca 2 komponen : 0.8666666666666667\n"
          ]
        }
      ]
    },
    {
      "cell_type": "code",
      "source": [
        "pca = PCA(n_components=2)\n",
        "pca_attributes = pca.fit_transform(X_train)\n",
        "pca.explained_variance_ratio_"
      ],
      "metadata": {
        "id": "Fae4JHzm07pr",
        "outputId": "1150c84d-0a1d-4c3f-c30f-5eba65b04f65",
        "colab": {
          "base_uri": "https://localhost:8080/"
        }
      },
      "execution_count": null,
      "outputs": [
        {
          "output_type": "execute_result",
          "data": {
            "text/plain": [
              "array([0.92312863, 0.0528586 ])"
            ]
          },
          "metadata": {},
          "execution_count": 38
        }
      ]
    }
  ],
  "metadata": {
    "colab": {
      "provenance": [],
      "include_colab_link": true
    },
    "kernelspec": {
      "display_name": "Python 3",
      "name": "python3"
    }
  },
  "nbformat": 4,
  "nbformat_minor": 0
}