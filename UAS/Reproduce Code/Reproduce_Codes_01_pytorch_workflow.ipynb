{
  "cells": [
    {
      "cell_type": "markdown",
      "metadata": {
        "id": "view-in-github",
        "colab_type": "text"
      },
      "source": [
        "<a href=\"https://colab.research.google.com/github/rizkaaa19/MachineLearning/blob/main/UAS/Reproduce%20Code/Reproduce_Codes_01_pytorch_workflow.ipynb\" target=\"_parent\"><img src=\"https://colab.research.google.com/assets/colab-badge.svg\" alt=\"Open In Colab\"/></a>"
      ]
    },
    {
      "cell_type": "markdown",
      "source": [
        "## **UAS Machine Learning**\n",
        "Nama : Rizka Rahmadina\n",
        "\n",
        "NIM : 1103204115\n",
        "\n",
        "Reproduce Codes \"01_pytorch_workflow\""
      ],
      "metadata": {
        "id": "mK0LuAXRRsJB"
      }
    },
    {
      "cell_type": "code",
      "source": [
        "import datetime\n",
        "import torch\n",
        "import matplotlib.pyplot as plt\n",
        "from torch import nn"
      ],
      "metadata": {
        "id": "KASKZvCLGFXr"
      },
      "execution_count": 2,
      "outputs": []
    },
    {
      "cell_type": "code",
      "source": [
        "# Display the last modification date for documentation purposes\n",
        "last_updated = datetime.datetime.now()\n",
        "print(f\"Document last modified: {last_updated}\")"
      ],
      "metadata": {
        "colab": {
          "base_uri": "https://localhost:8080/"
        },
        "id": "QZdMsSbKGFaR",
        "outputId": "f9dc7bcf-7d50-4747-9a25-b40daa851d30"
      },
      "execution_count": 3,
      "outputs": [
        {
          "output_type": "stream",
          "name": "stdout",
          "text": [
            "Document last modified: 2024-01-02 16:55:12.332981\n"
          ]
        }
      ]
    },
    {
      "cell_type": "code",
      "source": [
        "# Configure code to be device-agnostic\n",
        "import torch\n",
        "\n",
        "# Check if CUDA is available, otherwise use CPU\n",
        "preferred_device = \"cuda\" if torch.cuda.is_available() else \"cpu\"\n",
        "print(f\"Selected device: {preferred_device}\")\n"
      ],
      "metadata": {
        "colab": {
          "base_uri": "https://localhost:8080/"
        },
        "id": "Xx4EjnhnGFcq",
        "outputId": "621571d4-2ed7-4f3d-bf90-57120e6012cd"
      },
      "execution_count": 30,
      "outputs": [
        {
          "output_type": "stream",
          "name": "stdout",
          "text": [
            "Selected device: cpu\n"
          ]
        }
      ]
    },
    {
      "cell_type": "markdown",
      "source": [
        "# **1. Create a straight line dataset using the linear regression formula `(weight * X + bias)`.**"
      ],
      "metadata": {
        "id": "rG3_Kk9fSIeg"
      }
    },
    {
      "cell_type": "code",
      "source": [
        "# Define custom data parameters\n",
        "custom_weight = 0.5\n",
        "custom_bias = 1.2\n",
        "\n",
        "# Generate X and y using different linear regression features\n",
        "custom_X = torch.arange(0, 1, 0.02).unsqueeze(dim=0).t()\n",
        "custom_y = custom_weight * custom_X + custom_bias\n",
        "\n",
        "# Display information about the custom dataset\n",
        "print(f\"Number of X samples: {len(custom_X)}\")\n",
        "print(f\"Number of y samples: {len(custom_y)}\")\n",
        "print(\"First 10 X & y samples:\")\n",
        "print(f\"X: {custom_X[:10]}\\ny: {custom_y[:10]}\")\n"
      ],
      "metadata": {
        "colab": {
          "base_uri": "https://localhost:8080/"
        },
        "id": "2BbmvkxOGFe3",
        "outputId": "8075578b-6290-44bf-faab-f71f197adccb"
      },
      "execution_count": 6,
      "outputs": [
        {
          "output_type": "stream",
          "name": "stdout",
          "text": [
            "Number of X samples: 50\n",
            "Number of y samples: 50\n",
            "First 10 X & y samples:\n",
            "X: tensor([[0.0000],\n",
            "        [0.0200],\n",
            "        [0.0400],\n",
            "        [0.0600],\n",
            "        [0.0800],\n",
            "        [0.1000],\n",
            "        [0.1200],\n",
            "        [0.1400],\n",
            "        [0.1600],\n",
            "        [0.1800]])\n",
            "y: tensor([[1.2000],\n",
            "        [1.2100],\n",
            "        [1.2200],\n",
            "        [1.2300],\n",
            "        [1.2400],\n",
            "        [1.2500],\n",
            "        [1.2600],\n",
            "        [1.2700],\n",
            "        [1.2800],\n",
            "        [1.2900]])\n"
          ]
        }
      ]
    },
    {
      "cell_type": "code",
      "source": [
        "# Customized splitting of the custom data into training and testing\n",
        "custom_train_split = int(len(custom_X) * 0.7)\n",
        "custom_X_train = custom_X[:custom_train_split]\n",
        "custom_y_train = custom_y[:custom_train_split]\n",
        "custom_X_test = custom_X[custom_train_split:]\n",
        "custom_y_test = custom_y[custom_train_split:]\n",
        "print(f\"Number of X_train samples: {len(custom_X_train)}\")\n",
        "print(f\"Number of y_train samples: {len(custom_y_train)}\")\n",
        "print(f\"Number of X_test samples: {len(custom_X_test)}\")\n",
        "print(f\"Number of y_test samples: {len(custom_y_test)}\")\n"
      ],
      "metadata": {
        "colab": {
          "base_uri": "https://localhost:8080/"
        },
        "id": "u9Z0EWO-GFmA",
        "outputId": "73ff3915-5ad4-4055-ba6d-3cdaf9dcc0d5"
      },
      "execution_count": 8,
      "outputs": [
        {
          "output_type": "stream",
          "name": "stdout",
          "text": [
            "Number of X_train samples: 35\n",
            "Number of y_train samples: 35\n",
            "Number of X_test samples: 15\n",
            "Number of y_test samples: 15\n"
          ]
        }
      ]
    },
    {
      "cell_type": "code",
      "source": [
        "# Customized plot function with different parameters\n",
        "def custom_plot_predictions(train_data=custom_X_train,\n",
        "                            train_labels=custom_y_train,\n",
        "                            test_data=custom_X_test,\n",
        "                            test_labels=custom_y_test,\n",
        "                            custom_predictions=None):\n",
        "    plt.figure(figsize=(12, 8))  # Different figsize\n",
        "    plt.scatter(train_data, train_labels, c='blue', s=6, label=\"Custom Training data\")  # Different s (size)\n",
        "    plt.scatter(test_data, test_labels, c='green', s=6, label=\"Custom Test data\")  # Different s (size)\n",
        "\n",
        "    if custom_predictions is not None:\n",
        "        plt.scatter(test_data, custom_predictions, c='red', s=6, label=\"Custom Predictions\")  # Different s (size)\n",
        "    plt.legend(prop={\"size\": 16})  # Different prop size\n",
        "\n",
        "# Call the custom plot function\n",
        "custom_plot_predictions()\n"
      ],
      "metadata": {
        "colab": {
          "base_uri": "https://localhost:8080/",
          "height": 676
        },
        "id": "Pp_xuiCmGFou",
        "outputId": "6ca86355-aa0f-49a1-8d44-6f73d5d93fa3"
      },
      "execution_count": 9,
      "outputs": [
        {
          "output_type": "display_data",
          "data": {
            "text/plain": [
              "<Figure size 1200x800 with 1 Axes>"
            ],
            "image/png": "[encoded data removed]"
          },
          "metadata": {}
        }
      ]
    },
    {
      "cell_type": "markdown",
      "source": [
        "# **2. Build a PyTorch model by subclassing `nn.Module.`**\n",
        "\n",
        "\n",
        "*   Inside should be a randomly initialized nn.Parameter() with requires_grad=True, one for weights and one for bias.\n",
        "*   Implement the forward() method to compute the linear regression function you used to create the dataset in 1.\n",
        "*   Once you've constructed the model, make an instance of it and check its state_dict().\n",
        "*   Note: If you'd like to use nn.Linear() instead of nn.Parameter() you can.\n"
      ],
      "metadata": {
        "id": "JE_o23MbSxuc"
      }
    },
    {
      "cell_type": "code",
      "source": [
        "# Custom PyTorch linear regression model by subclassing nn.Module\n",
        "class CustomLinearRegressionModel(nn.Module):\n",
        "    def __init__(self):\n",
        "        super().__init__()\n",
        "        self.custom_weight = nn.Parameter(data=torch.randn(1, requires_grad=True, dtype=torch.float))\n",
        "        self.custom_bias = nn.Parameter(data=torch.randn(1, requires_grad=True, dtype=torch.float))\n",
        "\n",
        "    def forward(self, x):\n",
        "        return self.custom_weight * x + self.custom_bias\n",
        "\n",
        "# Instantiate the custom model\n",
        "torch.manual_seed(24)\n",
        "custom_model = CustomLinearRegressionModel()\n",
        "custom_model, custom_model.state_dict()\n"
      ],
      "metadata": {
        "colab": {
          "base_uri": "https://localhost:8080/"
        },
        "id": "E9gsQxgrGF_g",
        "outputId": "93660994-9c26-4425-fa29-17dd40562ebb"
      },
      "execution_count": 24,
      "outputs": [
        {
          "output_type": "execute_result",
          "data": {
            "text/plain": [
              "(CustomLinearRegressionModel(),\n",
              " OrderedDict([('custom_weight', tensor([1.0139])),\n",
              "              ('custom_bias', tensor([0.8988]))]))"
            ]
          },
          "metadata": {},
          "execution_count": 24
        }
      ]
    },
    {
      "cell_type": "code",
      "source": [
        "# Check the device of the first parameter in the custom model\n",
        "next(custom_model.parameters()).device\n"
      ],
      "metadata": {
        "colab": {
          "base_uri": "https://localhost:8080/"
        },
        "id": "pHC534a_GGCJ",
        "outputId": "04e5a0be-e71f-48cd-d45d-b12647d61f7c"
      },
      "execution_count": 25,
      "outputs": [
        {
          "output_type": "execute_result",
          "data": {
            "text/plain": [
              "device(type='cpu')"
            ]
          },
          "metadata": {},
          "execution_count": 25
        }
      ]
    },
    {
      "cell_type": "code",
      "source": [
        "# Instantiate the custom model and move it to the preferred device\n",
        "custom_model.to(preferred_device)\n",
        "list(custom_model.parameters())\n"
      ],
      "metadata": {
        "colab": {
          "base_uri": "https://localhost:8080/"
        },
        "id": "0gsOQYsrGGEf",
        "outputId": "8da2c7e1-cbd6-4b5c-e751-ecaa0a397b72"
      },
      "execution_count": 31,
      "outputs": [
        {
          "output_type": "execute_result",
          "data": {
            "text/plain": [
              "[Parameter containing:\n",
              " tensor([1.0139], requires_grad=True),\n",
              " Parameter containing:\n",
              " tensor([0.8988], requires_grad=True)]"
            ]
          },
          "metadata": {},
          "execution_count": 31
        }
      ]
    },
    {
      "cell_type": "markdown",
      "source": [
        "# **3. Create a loss function and optimizer using `nn.L1Loss()` and `torch.optim.SGD**(params, lr)` respectively.\n",
        "\n",
        "* Set the learning rate of the optimizer to be 0.01 and the parameters to\n",
        "optimize should be the model parameters from the model you created in 2.\n",
        "* Write a training loop to perform the appropriate training steps for 300 epochs.\n",
        "* The training loop should test the model on the test dataset every 20 epochs."
      ],
      "metadata": {
        "id": "yANDSLG_TosO"
      }
    },
    {
      "cell_type": "code",
      "source": [
        "# Define the loss function and optimizer for the custom model\n",
        "custom_loss_fn = nn.L1Loss()\n",
        "custom_optimizer = torch.optim.SGD(params=custom_model.parameters(), lr=0.005)\n"
      ],
      "metadata": {
        "id": "rx5l49gwGGHT"
      },
      "execution_count": 32,
      "outputs": []
    },
    {
      "cell_type": "code",
      "source": [
        "# Custom training loop for the custom model for 300 epochs\n",
        "torch.manual_seed(24)  # Different seed for variety\n",
        "\n",
        "custom_epochs = 300\n",
        "\n",
        "# Send data to the target device\n",
        "custom_X_train = custom_X_train.to(preferred_device)\n",
        "custom_X_test = custom_X_test.to(preferred_device)\n",
        "custom_y_train = custom_y_train.to(preferred_device)\n",
        "custom_y_test = custom_y_test.to(preferred_device)\n",
        "\n",
        "for custom_epoch in range(custom_epochs):\n",
        "    ### Training\n",
        "\n",
        "    # Put the custom model in train mode\n",
        "    custom_model.train()\n",
        "\n",
        "    # 1. Forward pass\n",
        "    custom_y_pred = custom_model(custom_X_train)\n",
        "\n",
        "    # 2. Calculate loss\n",
        "    custom_loss = custom_loss_fn(custom_y_pred, custom_y_train)\n",
        "\n",
        "    # 3. Zero gradients\n",
        "    custom_optimizer.zero_grad()\n",
        "\n",
        "    # 4. Backpropagation\n",
        "    custom_loss.backward()\n",
        "\n",
        "    # 5. Step the optimizer\n",
        "    custom_optimizer.step()\n",
        "\n",
        "    ### Perform testing every 20 epochs\n",
        "    if custom_epoch % 15 == 0:\n",
        "        # Put the custom model in evaluation mode and setup inference context\n",
        "        custom_model.eval()\n",
        "        with torch.no_grad():\n",
        "            # 1. Forward pass\n",
        "            custom_y_preds = custom_model(custom_X_test)\n",
        "            # 2. Calculate test loss\n",
        "            custom_test_loss = custom_loss_fn(custom_y_preds, custom_y_test)\n",
        "            # Print out what's happening\n",
        "            print(f\"Epoch: {custom_epoch} | Train loss: {custom_loss:.2f} | Test loss: {custom_test_loss:.2f}\")\n"
      ],
      "metadata": {
        "colab": {
          "base_uri": "https://localhost:8080/"
        },
        "id": "9_uyKbsHGGJ9",
        "outputId": "7b606aec-1b04-4ed3-92c7-2ebc9ebeefc5"
      },
      "execution_count": 34,
      "outputs": [
        {
          "output_type": "stream",
          "name": "stdout",
          "text": [
            "Epoch: 0 | Train loss: 0.03 | Test loss: 0.08\n",
            "Epoch: 15 | Train loss: 0.03 | Test loss: 0.07\n",
            "Epoch: 30 | Train loss: 0.03 | Test loss: 0.07\n",
            "Epoch: 45 | Train loss: 0.02 | Test loss: 0.06\n",
            "Epoch: 60 | Train loss: 0.02 | Test loss: 0.06\n",
            "Epoch: 75 | Train loss: 0.02 | Test loss: 0.05\n",
            "Epoch: 90 | Train loss: 0.02 | Test loss: 0.05\n",
            "Epoch: 105 | Train loss: 0.02 | Test loss: 0.04\n",
            "Epoch: 120 | Train loss: 0.01 | Test loss: 0.04\n",
            "Epoch: 135 | Train loss: 0.01 | Test loss: 0.03\n",
            "Epoch: 150 | Train loss: 0.01 | Test loss: 0.02\n",
            "Epoch: 165 | Train loss: 0.01 | Test loss: 0.02\n",
            "Epoch: 180 | Train loss: 0.00 | Test loss: 0.01\n",
            "Epoch: 195 | Train loss: 0.00 | Test loss: 0.01\n",
            "Epoch: 210 | Train loss: 0.00 | Test loss: 0.00\n",
            "Epoch: 225 | Train loss: 0.00 | Test loss: 0.01\n",
            "Epoch: 240 | Train loss: 0.00 | Test loss: 0.00\n",
            "Epoch: 255 | Train loss: 0.00 | Test loss: 0.01\n",
            "Epoch: 270 | Train loss: 0.00 | Test loss: 0.00\n",
            "Epoch: 285 | Train loss: 0.00 | Test loss: 0.01\n"
          ]
        }
      ]
    },
    {
      "cell_type": "markdown",
      "source": [
        "# **4. Make predictions with the trained model on the test data.**\n",
        "\n",
        "* Visualize these predictions against the original training and testing data (note: you may need to make sure the predictions are not on the GPU if you want to use non-CUDA-enabled libraries such as matplotlib to plot)."
      ],
      "metadata": {
        "id": "vHPHsn8PUIdD"
      }
    },
    {
      "cell_type": "code",
      "source": [
        "# Make predictions with the custom model\n",
        "custom_model.eval()\n",
        "\n",
        "with torch.no_grad():\n",
        "    custom_y_preds = custom_model(custom_X_test)\n",
        "custom_y_preds\n"
      ],
      "metadata": {
        "colab": {
          "base_uri": "https://localhost:8080/"
        },
        "id": "j1Ab0RP-GGMW",
        "outputId": "96152770-05ac-42f5-959c-c8981f388928"
      },
      "execution_count": 35,
      "outputs": [
        {
          "output_type": "execute_result",
          "data": {
            "text/plain": [
              "tensor([[1.5555],\n",
              "        [1.5656],\n",
              "        [1.5757],\n",
              "        [1.5858],\n",
              "        [1.5959],\n",
              "        [1.6060],\n",
              "        [1.6161],\n",
              "        [1.6262],\n",
              "        [1.6363],\n",
              "        [1.6464],\n",
              "        [1.6565],\n",
              "        [1.6666],\n",
              "        [1.6767],\n",
              "        [1.6868],\n",
              "        [1.6969]])"
            ]
          },
          "metadata": {},
          "execution_count": 35
        }
      ]
    },
    {
      "cell_type": "code",
      "source": [
        "# Move predictions to CPU for compatibility with non-CUDA-enabled libraries\n",
        "custom_y_preds_cpu = custom_y_preds.cpu()\n"
      ],
      "metadata": {
        "id": "QJkoffH6GGOy"
      },
      "execution_count": 36,
      "outputs": []
    },
    {
      "cell_type": "code",
      "source": [
        "import matplotlib.pyplot as plt\n",
        "\n",
        "# Define the plot_predictions function\n",
        "def plot_predictions(test_data, test_labels, predictions):\n",
        "    plt.figure(figsize=(10, 6))\n",
        "    plt.scatter(test_data, test_labels, label='True test data', color='green')\n",
        "    plt.scatter(test_data, predictions, label='Predictions', color='red', marker='x')\n",
        "    plt.title('Linear Regression: True Test Data and Predictions')\n",
        "    plt.xlabel('X')\n",
        "    plt.ylabel('y')\n",
        "    plt.legend()\n",
        "    plt.show()\n",
        "\n",
        "# Plot the predictions for the custom model (ensure predictions are on CPU)\n",
        "plot_predictions(test_data=custom_X_test.cpu(),\n",
        "                 test_labels=custom_y_test.cpu(),\n",
        "                 predictions=custom_y_preds_cpu)\n"
      ],
      "metadata": {
        "colab": {
          "base_uri": "https://localhost:8080/",
          "height": 564
        },
        "id": "DvJgH_l8GGRX",
        "outputId": "40115530-a1a6-4310-99c2-c27e5b76066f"
      },
      "execution_count": 38,
      "outputs": [
        {
          "output_type": "display_data",
          "data": {
            "text/plain": [
              "<Figure size 1000x600 with 1 Axes>"
            ],
            "image/png": "[encoded data removed]"
          },
          "metadata": {}
        }
      ]
    },
    {
      "cell_type": "markdown",
      "source": [
        "# **5. Save your trained model's `state_dict()` to file.**\n",
        "\n",
        "* Create a new instance of your model class you made in 2. and load in the state_dict() you just saved to it.\n",
        "* Perform predictions on your test data with the loaded model and confirm they match the original model predictions from 4."
      ],
      "metadata": {
        "id": "t0iAO9rjUTt3"
      }
    },
    {
      "cell_type": "code",
      "source": [
        "from pathlib import Path\n",
        "\n",
        "# 1. Create a directory for models\n",
        "CUSTOM_MODEL_PATH = Path(\"custom_models\")\n",
        "CUSTOM_MODEL_PATH.mkdir(parents=True, exist_ok=True)\n",
        "\n",
        "# 2. Create a path for saving the custom model\n",
        "CUSTOM_MODEL_NAME = \"custom_linear_regression_model\"\n",
        "CUSTOM_MODEL_SAVE_PATH = CUSTOM_MODEL_PATH / CUSTOM_MODEL_NAME\n",
        "\n",
        "# 3. Save the custom model state_dict()\n",
        "print(f\"Saving custom model to {CUSTOM_MODEL_SAVE_PATH}\")\n",
        "torch.save(obj=custom_model.state_dict(), f=CUSTOM_MODEL_SAVE_PATH)\n"
      ],
      "metadata": {
        "colab": {
          "base_uri": "https://localhost:8080/"
        },
        "id": "_5piWR1FGGUI",
        "outputId": "d40d43f2-9ae7-45d0-be52-274f030beaa9"
      },
      "execution_count": 39,
      "outputs": [
        {
          "output_type": "stream",
          "name": "stdout",
          "text": [
            "Saving custom model to custom_models/custom_linear_regression_model\n"
          ]
        }
      ]
    },
    {
      "cell_type": "code",
      "source": [
        "# Create a new instance of the custom model and load the saved state_dict() (put it on the target device)\n",
        "loaded_custom_model = CustomLinearRegressionModel()\n",
        "loaded_custom_model.load_state_dict(torch.load(f=CUSTOM_MODEL_SAVE_PATH))\n",
        "loaded_custom_model.to(preferred_device)\n"
      ],
      "metadata": {
        "colab": {
          "base_uri": "https://localhost:8080/"
        },
        "id": "7EEcEexyGGWl",
        "outputId": "5fdcc4af-6478-4d89-96c4-2de45d41aa33"
      },
      "execution_count": 40,
      "outputs": [
        {
          "output_type": "execute_result",
          "data": {
            "text/plain": [
              "CustomLinearRegressionModel()"
            ]
          },
          "metadata": {},
          "execution_count": 40
        }
      ]
    },
    {
      "cell_type": "code",
      "source": [
        "# Make predictions with the loaded custom model and compare them to the previous predictions\n",
        "custom_y_preds_new = loaded_custom_model(custom_X_test)\n",
        "result_comparison = torch.equal(custom_y_preds, custom_y_preds_new)\n",
        "print(result_comparison)\n"
      ],
      "metadata": {
        "colab": {
          "base_uri": "https://localhost:8080/"
        },
        "id": "K2Ct34-xGGY_",
        "outputId": "73720dad-3c58-4391-faa8-6b566c2ab268"
      },
      "execution_count": 51,
      "outputs": [
        {
          "output_type": "stream",
          "name": "stdout",
          "text": [
            "True\n"
          ]
        }
      ]
    },
    {
      "cell_type": "code",
      "source": [
        "# Get the state_dict() of the loaded custom model\n",
        "state_dict_loaded_model = loaded_custom_model.state_dict()\n",
        "print(state_dict_loaded_model)\n"
      ],
      "metadata": {
        "colab": {
          "base_uri": "https://localhost:8080/"
        },
        "id": "1kNaknbnGGba",
        "outputId": "d24dc94d-96f8-4d04-9875-b77f88645d41"
      },
      "execution_count": 55,
      "outputs": [
        {
          "output_type": "stream",
          "name": "stdout",
          "text": [
            "OrderedDict([('custom_weight', tensor([0.5049])), ('custom_bias', tensor([1.2021]))])\n"
          ]
        }
      ]
    }
  ],
  "metadata": {
    "colab": {
      "provenance": [],
      "include_colab_link": true
    },
    "kernelspec": {
      "display_name": "Python 3",
      "name": "python3"
    }
  },
  "nbformat": 4,
  "nbformat_minor": 0
}