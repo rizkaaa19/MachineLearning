{
  "cells": [
    {
      "cell_type": "markdown",
      "metadata": {
        "id": "view-in-github",
        "colab_type": "text"
      },
      "source": [
        "<a href=\"https://colab.research.google.com/github/rizkaaa19/MachineLearning/blob/main/UAS/Reproduce%20Code/Reproduce_Codes_00_pytorch_fundamentals.ipynb\" target=\"_parent\"><img src=\"https://colab.research.google.com/assets/colab-badge.svg\" alt=\"Open In Colab\"/></a>"
      ]
    },
    {
      "cell_type": "markdown",
      "source": [
        "## **UAS Machine Learning**\n",
        "\n",
        "Nama : Rizka Rahmadina\n",
        "\n",
        "NIM : 1103204115\n",
        "\n",
        "Reproduce Codes \"00_pytorch_fundamentals\""
      ],
      "metadata": {
        "id": "JYy8GuLXcI1q"
      }
    },
    {
      "cell_type": "markdown",
      "source": [
        "### Create a random tensor with shape (10, 5)."
      ],
      "metadata": {
        "id": "RWv7KzShj_6i"
      }
    },
    {
      "cell_type": "code",
      "source": [
        "# Import torch\n",
        "import torch\n",
        "\n",
        "# Create random tensor with shape (10, 5)\n",
        "Z = torch.rand(size=(10, 5))\n",
        "\n",
        "# Print the random tensor and its shape\n",
        "print(Z)\n",
        "print(Z.shape)\n"
      ],
      "metadata": {
        "colab": {
          "base_uri": "https://localhost:8080/"
        },
        "id": "B_A7AxLobhkp",
        "outputId": "a136c9f5-3f63-4f64-dc9f-c1da22857267"
      },
      "execution_count": 1,
      "outputs": [
        {
          "output_type": "stream",
          "name": "stdout",
          "text": [
            "tensor([[0.4026, 0.0344, 0.7101, 0.2210, 0.7952],\n",
            "        [0.9549, 0.3402, 0.3371, 0.4666, 0.3622],\n",
            "        [0.4782, 0.2338, 0.7395, 0.6043, 0.2588],\n",
            "        [0.4999, 0.1287, 0.8665, 0.9595, 0.1299],\n",
            "        [0.0966, 0.0054, 0.6210, 0.6086, 0.5514],\n",
            "        [0.4109, 0.6119, 0.1966, 0.4355, 0.1589],\n",
            "        [0.9431, 0.1961, 0.6993, 0.6055, 0.6270],\n",
            "        [0.4433, 0.8751, 0.1599, 0.9072, 0.5707],\n",
            "        [0.2688, 0.6926, 0.0670, 0.0393, 0.2087],\n",
            "        [0.6937, 0.4235, 0.0562, 0.6550, 0.6888]])\n",
            "torch.Size([10, 5])\n"
          ]
        }
      ]
    },
    {
      "cell_type": "markdown",
      "source": [
        "### Perform a matrix multiplication on the tensor from 2 with another random tensor with shape (1, 5)"
      ],
      "metadata": {
        "id": "DzjsKWGkkGZa"
      }
    },
    {
      "cell_type": "code",
      "source": [
        "# Create another random tensor with shape (1, 5)\n",
        "Y = torch.rand(size=(1, 5))\n",
        "\n",
        "# Transpose the second tensor\n",
        "Y_transposed = Y.t()\n",
        "\n",
        "# Perform matrix multiplication\n",
        "X = torch.matmul(Z, Y_transposed)\n",
        "\n",
        "# Print the result and its shape\n",
        "print(X)\n",
        "print(X.shape)"
      ],
      "metadata": {
        "colab": {
          "base_uri": "https://localhost:8080/"
        },
        "id": "V_9lAx-jbhiR",
        "outputId": "2298f6da-f813-4b5b-e4e9-c7edcefc88d9"
      },
      "execution_count": 3,
      "outputs": [
        {
          "output_type": "stream",
          "name": "stdout",
          "text": [
            "tensor([[1.5187],\n",
            "        [1.7300],\n",
            "        [1.5607],\n",
            "        [1.7808],\n",
            "        [1.3555],\n",
            "        [1.1931],\n",
            "        [2.1717],\n",
            "        [2.0606],\n",
            "        [0.7712],\n",
            "        [1.8628]])\n",
            "torch.Size([10, 1])\n"
          ]
        }
      ]
    },
    {
      "cell_type": "markdown",
      "source": [
        "### Set the random seed"
      ],
      "metadata": {
        "id": "QXRqY2WbkObl"
      }
    },
    {
      "cell_type": "code",
      "source": [
        "# Set random seed for reproducibility on CPU\n",
        "torch.manual_seed(0)\n",
        "\n",
        "# Check if GPU is available and set random seed for reproducibility on GPU\n",
        "if torch.cuda.is_available():\n",
        "    torch.cuda.manual_seed(0)\n",
        "\n",
        "# Create random tensor with shape (10, 5)\n",
        "Z = torch.rand(size=(10, 5))\n",
        "\n",
        "# Print the random tensor and its shape\n",
        "print(X)\n",
        "print(X.shape)\n",
        "\n",
        "# Create another random tensor with shape (1, 5)\n",
        "Y = torch.rand(size=(1, 5))\n",
        "\n",
        "\n",
        "# Perform matrix multiplication\n",
        "X = torch.matmul(Z, Y_transposed)\n",
        "\n",
        "# Print the result and its shape\n",
        "X, X.shape"
      ],
      "metadata": {
        "colab": {
          "base_uri": "https://localhost:8080/"
        },
        "id": "7Vw1USELbhfZ",
        "outputId": "e89caff7-7dbb-40e9-f7cd-1a4f27f75a9c"
      },
      "execution_count": 6,
      "outputs": [
        {
          "output_type": "stream",
          "name": "stdout",
          "text": [
            "tensor([[1.1458],\n",
            "        [2.0642],\n",
            "        [0.8468],\n",
            "        [1.4931],\n",
            "        [2.2232],\n",
            "        [1.3489],\n",
            "        [1.1130],\n",
            "        [1.8159],\n",
            "        [0.9453],\n",
            "        [1.6060]])\n",
            "torch.Size([10, 1])\n"
          ]
        },
        {
          "output_type": "execute_result",
          "data": {
            "text/plain": [
              "(tensor([[1.1458],\n",
              "         [2.0642],\n",
              "         [0.8468],\n",
              "         [1.4931],\n",
              "         [2.2232],\n",
              "         [1.3489],\n",
              "         [1.1130],\n",
              "         [1.8159],\n",
              "         [0.9453],\n",
              "         [1.6060]]),\n",
              " torch.Size([10, 1]))"
            ]
          },
          "metadata": {},
          "execution_count": 6
        }
      ]
    },
    {
      "cell_type": "markdown",
      "source": [
        "### Speaking of random seeds, we saw how to set it with torch.manual_seed() but is there a GPU equivalent? (hint: you'll need to look into the documentation for torch.cuda for this one)"
      ],
      "metadata": {
        "id": "d1jG8IIgkdt_"
      }
    },
    {
      "cell_type": "code",
      "source": [
        "# Set random seed on the GPU to a different value\n",
        "torch.cuda.manual_seed(5678)"
      ],
      "metadata": {
        "id": "iz8Z-z6Qbhc0"
      },
      "execution_count": 7,
      "outputs": []
    },
    {
      "cell_type": "markdown",
      "source": [
        "### Create two random tensors of shape, and send them both to the GPU (you'll need access to a GPU for this)"
      ],
      "metadata": {
        "id": "wfTmrmvmknWY"
      }
    },
    {
      "cell_type": "code",
      "source": [
        "# Set random seed on the GPU to a different value\n",
        "torch.cuda.manual_seed(5678)\n",
        "\n",
        "# Check for access to GPU\n",
        "device = \"cuda\" if torch.cuda.is_available() else \"cpu\"\n",
        "print(f\"Device: {device}\")\n",
        "\n",
        "# Create two random tensors on GPU with the new seed and different size\n",
        "tensor_A = torch.rand(size=(3, 4)).to(device)\n",
        "tensor_B = torch.rand(size=(3, 4)).to(device)\n",
        "tensor_A, tensor_B"
      ],
      "metadata": {
        "colab": {
          "base_uri": "https://localhost:8080/"
        },
        "id": "bWVCNY6AbhaT",
        "outputId": "0914044b-8c77-4d33-8ce5-24565ef90457"
      },
      "execution_count": 9,
      "outputs": [
        {
          "output_type": "stream",
          "name": "stdout",
          "text": [
            "Device: cpu\n"
          ]
        },
        {
          "output_type": "execute_result",
          "data": {
            "text/plain": [
              "(tensor([[0.1872, 0.0340, 0.9442, 0.8802],\n",
              "         [0.0012, 0.5936, 0.4158, 0.4177],\n",
              "         [0.2711, 0.6923, 0.2038, 0.6833]]),\n",
              " tensor([[0.7529, 0.8579, 0.6870, 0.0051],\n",
              "         [0.1757, 0.7497, 0.6047, 0.1100],\n",
              "         [0.2121, 0.9704, 0.8369, 0.2820]]))"
            ]
          },
          "metadata": {},
          "execution_count": 9
        }
      ]
    },
    {
      "cell_type": "markdown",
      "source": [
        "### Perform a matrix multiplication"
      ],
      "metadata": {
        "id": "UqZ2KJQKk6qS"
      }
    },
    {
      "cell_type": "code",
      "source": [
        "# Perform matmul on tensor_A and tensor_B\n",
        "# tensor_C = torch.matmul(tensor_A, tensor_B) # won't work because of shape error\n",
        "tensor_C = torch.matmul(tensor_A, tensor_B.T)\n",
        "tensor_C, tensor_C.shape"
      ],
      "metadata": {
        "colab": {
          "base_uri": "https://localhost:8080/"
        },
        "id": "1Qqk39T7bhX5",
        "outputId": "4aa03add-2ca8-43d5-ab72-6d1700cbb30b"
      },
      "execution_count": 10,
      "outputs": [
        {
          "output_type": "execute_result",
          "data": {
            "text/plain": [
              "(tensor([[0.8233, 0.7261, 1.1112],\n",
              "         [0.7979, 0.7425, 1.0420],\n",
              "         [0.9416, 0.7650, 1.0926]]),\n",
              " torch.Size([3, 3]))"
            ]
          },
          "metadata": {},
          "execution_count": 10
        }
      ]
    },
    {
      "cell_type": "markdown",
      "source": [
        "### Find the maximum and minimum values"
      ],
      "metadata": {
        "id": "xu57tx5jlJEj"
      }
    },
    {
      "cell_type": "code",
      "source": [
        "# Find the maximum and minimum values of tensor_C\n",
        "max_value = torch.max(tensor_C)\n",
        "min_value = torch.min(tensor_C)\n",
        "\n",
        "max_value, min_value\n"
      ],
      "metadata": {
        "colab": {
          "base_uri": "https://localhost:8080/"
        },
        "id": "PQ3BSDChbhVi",
        "outputId": "3dd0032e-2e30-4e9b-c466-3bb4509d3fb4"
      },
      "execution_count": 11,
      "outputs": [
        {
          "output_type": "execute_result",
          "data": {
            "text/plain": [
              "(tensor(1.1112), tensor(0.7261))"
            ]
          },
          "metadata": {},
          "execution_count": 11
        }
      ]
    },
    {
      "cell_type": "markdown",
      "source": [
        "### Find the maximum and minimum index values"
      ],
      "metadata": {
        "id": "PT1Nd4CWlLzy"
      }
    },
    {
      "cell_type": "code",
      "source": [
        "# Find the indices of the maximum and minimum values of tensor_C\n",
        "max_index = torch.argmax(tensor_C)\n",
        "min_index = torch.argmin(tensor_C)\n",
        "\n",
        "max_index, min_index\n"
      ],
      "metadata": {
        "colab": {
          "base_uri": "https://localhost:8080/"
        },
        "id": "pfNWElN1bhTV",
        "outputId": "5013a0ea-5a05-44e6-c76d-255341047c83"
      },
      "execution_count": 12,
      "outputs": [
        {
          "output_type": "execute_result",
          "data": {
            "text/plain": [
              "(tensor(2), tensor(1))"
            ]
          },
          "metadata": {},
          "execution_count": 12
        }
      ]
    },
    {
      "cell_type": "markdown",
      "source": [
        "### Make a random tensor, and then create a new tensor with all the 1 dimensions removed to be left. Set the seed and print out the first tensor and it's shape as well as the second tensor and it's shape."
      ],
      "metadata": {
        "id": "QvGT1_BZlPEJ"
      }
    },
    {
      "cell_type": "code",
      "source": [
        "# Set seed to a different value\n",
        "torch.manual_seed(42)\n",
        "\n",
        "# Create a random tensor with a different size\n",
        "tensor_F = torch.rand(size=(1, 1, 1, 8))\n",
        "\n",
        "# Remove single dimensions\n",
        "tensor_G = tensor_F.squeeze()\n",
        "\n",
        "# Print out tensors\n",
        "print(tensor_F, tensor_F.shape)\n",
        "print(tensor_G, tensor_G.shape)\n"
      ],
      "metadata": {
        "colab": {
          "base_uri": "https://localhost:8080/"
        },
        "id": "FfJhUn1PbhQr",
        "outputId": "7483b86e-125c-460a-d96d-bc7493f0fdd5"
      },
      "execution_count": 14,
      "outputs": [
        {
          "output_type": "stream",
          "name": "stdout",
          "text": [
            "tensor([[[[0.8823, 0.9150, 0.3829, 0.9593, 0.3904, 0.6009, 0.2566, 0.7936]]]]) torch.Size([1, 1, 1, 8])\n",
            "tensor([0.8823, 0.9150, 0.3829, 0.9593, 0.3904, 0.6009, 0.2566, 0.7936]) torch.Size([8])\n"
          ]
        }
      ]
    }
  ],
  "metadata": {
    "colab": {
      "provenance": [],
      "include_colab_link": true
    },
    "kernelspec": {
      "display_name": "Python 3",
      "name": "python3"
    }
  },
  "nbformat": 4,
  "nbformat_minor": 0
}